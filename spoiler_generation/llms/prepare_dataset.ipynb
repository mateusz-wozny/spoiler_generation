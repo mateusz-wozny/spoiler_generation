{
 "cells": [
  {
   "cell_type": "code",
   "execution_count": null,
   "metadata": {},
   "outputs": [],
   "source": [
    "import pandas as pd\n",
    "from spoiler_generation.utils.dataset_class import Dataset\n",
    "from datasets import load_dataset\n",
    "\n",
    "dataset = load_dataset(\n",
    "    \"MateuszW/spoiler_generation\",\n",
    "    data_files={\"train\": \"clickbait_spoiling_data/train.jsonl\", \"validation\": \"clickbait_spoiling_data/validation.jsonl\"},\n",
    ")"
   ]
  },
  {
   "cell_type": "code",
   "execution_count": 5,
   "metadata": {},
   "outputs": [
    {
     "data": {
      "text/plain": [
       "DatasetDict({\n",
       "    train: Dataset({\n",
       "        features: ['uuid', 'postId', 'postText', 'postPlatform', 'targetParagraphs', 'targetTitle', 'targetDescription', 'targetKeywords', 'targetMedia', 'targetUrl', 'provenance', 'spoiler', 'spoilerPositions', 'tags'],\n",
       "        num_rows: 3200\n",
       "    })\n",
       "    validation: Dataset({\n",
       "        features: ['uuid', 'postId', 'postText', 'postPlatform', 'targetParagraphs', 'targetTitle', 'targetDescription', 'targetKeywords', 'targetMedia', 'targetUrl', 'provenance', 'spoiler', 'spoilerPositions', 'tags'],\n",
       "        num_rows: 800\n",
       "    })\n",
       "})"
      ]
     },
     "execution_count": 5,
     "metadata": {},
     "output_type": "execute_result"
    }
   ],
   "source": [
    "dataset"
   ]
  },
  {
   "cell_type": "code",
   "execution_count": 4,
   "metadata": {},
   "outputs": [],
   "source": [
    "train_dataset = Dataset(pd.DataFrame(dataset[\"train\"]), explode=True)"
   ]
  },
  {
   "attachments": {},
   "cell_type": "markdown",
   "metadata": {},
   "source": [
    "## Add generated questions"
   ]
  },
  {
   "cell_type": "code",
   "execution_count": null,
   "metadata": {},
   "outputs": [],
   "source": [
    "questions = load_dataset(\n",
    "    \"MateuszW/spoiler_generation\",\n",
    "    data_files={\"train\": \"generated_questions/train_questions.csv\", \"validation\": \"generated_questions/validation_questions.csv\"},\n",
    ")"
   ]
  },
  {
   "cell_type": "code",
   "execution_count": 8,
   "metadata": {},
   "outputs": [
    {
     "data": {
      "text/plain": [
       "DatasetDict({\n",
       "    train: Dataset({\n",
       "        features: ['generated_questions'],\n",
       "        num_rows: 3200\n",
       "    })\n",
       "    validation: Dataset({\n",
       "        features: ['generated_questions'],\n",
       "        num_rows: 800\n",
       "    })\n",
       "})"
      ]
     },
     "execution_count": 8,
     "metadata": {},
     "output_type": "execute_result"
    }
   ],
   "source": [
    "questions"
   ]
  },
  {
   "cell_type": "code",
   "execution_count": 7,
   "metadata": {},
   "outputs": [],
   "source": [
    "train_dataset._df[\"postText\"] = train_dataset._df[\"postText\"] + \". \" + questions[\"train\"][\"generated_questions\"]"
   ]
  },
  {
   "attachments": {},
   "cell_type": "markdown",
   "metadata": {},
   "source": [
    "## Prepare data"
   ]
  },
  {
   "cell_type": "code",
   "execution_count": 8,
   "metadata": {},
   "outputs": [],
   "source": [
    "return_data = train_dataset.prepare_data_for_llm_training(save_path=\"train.json\")"
   ]
  },
  {
   "cell_type": "code",
   "execution_count": 9,
   "metadata": {},
   "outputs": [
    {
     "data": {
      "text/plain": [
       "{'context': 'Despite common belief, money isn\\'t the key to employee happiness, new research finds. A study by hiring software provider Cangrade revealed that being intellectually stimulated is the most important aspect of an employee\\'s job satisfaction. Specially, those surveyed said intellectual stimulation accounts for 18.5 percent of their job satisfaction. That\\'s compared to money, which accounts for just 5.4 percent of how happy an employee is with the job. Achievement and prestige, power and influence, work-life balance and affiliation and friendship were all rated more important to job satisfaction than money. \"These findings are quite surprising, because employers often assume things like income are the strongest drivers of happiness in the workplace,\" said Steve Lehr, Cangrade\\'s chief science officer. \"In fact, our research shows that it may be the weakest.\" Researchers developed a three-part formula for employers who are eager to keep their staff happy: Try to ensure that jobs provide intellectual stimulation and task variety. Give employees some autonomy, influence and opportunities to acquire prestige and recognition. Employers should give employees these things even when they don\\'t say they need them. Give them even more if they say they do. Employers should give all employees a break now and again, including the consummate workaholics who say they don\\'t want or need it. Offer employees extra money, security and social opportunities. However, only to the extent they say these things matter to them. \"If there is a major takeaway here, it\\'s that we can finally prove that money doesn\\'t buy happiness, and that happiness isn\\'t as elusive as we might think,\" said Cangrade CEO Michael Burtov. The study was based on surveys of nearly 600 U.S. employees.',\n",
       " 'question': \"This is what makes employees happy -- and it's not their paycheck. What makes employees happy?\",\n",
       " 'output': 'intellectual stimulation',\n",
       " 'type': 'phrase'}"
      ]
     },
     "execution_count": 9,
     "metadata": {},
     "output_type": "execute_result"
    }
   ],
   "source": [
    "return_data[2]"
   ]
  }
 ],
 "metadata": {
  "kernelspec": {
   "display_name": ".env",
   "language": "python",
   "name": "python3"
  },
  "language_info": {
   "codemirror_mode": {
    "name": "ipython",
    "version": 3
   },
   "file_extension": ".py",
   "mimetype": "text/x-python",
   "name": "python",
   "nbconvert_exporter": "python",
   "pygments_lexer": "ipython3",
   "version": "3.9.2"
  },
  "orig_nbformat": 4
 },
 "nbformat": 4,
 "nbformat_minor": 2
}
