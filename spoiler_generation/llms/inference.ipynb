{
 "cells": [
  {
   "cell_type": "code",
   "execution_count": null,
   "metadata": {},
   "outputs": [],
   "source": [
    "import torch\n",
    "from peft import PeftModel, PeftConfig\n",
    "from transformers import AutoModelForCausalLM, AutoTokenizer"
   ]
  },
  {
   "cell_type": "code",
   "execution_count": null,
   "metadata": {},
   "outputs": [],
   "source": [
    "peft_model_id = \"MateuszW/llama-pwt-adapter\"\n",
    "config = PeftConfig.from_pretrained(peft_model_id)\n",
    "model = AutoModelForCausalLM.from_pretrained(config.base_model_name_or_path, return_dict=True, load_in_8bit=True, device_map={\"\": 0})\n",
    "tokenizer = AutoTokenizer.from_pretrained(config.base_model_name_or_path, padding_side=\"left\", model_max_length=1024)\n",
    "\n",
    "# Load the Lora model\n",
    "model = PeftModel.from_pretrained(model, peft_model_id, device_map={\"\": 0})"
   ]
  },
  {
   "cell_type": "code",
   "execution_count": null,
   "metadata": {},
   "outputs": [],
   "source": [
    "tokenizer.add_special_tokens({\"pad_token\": tokenizer.bos_token})"
   ]
  },
  {
   "cell_type": "code",
   "execution_count": null,
   "metadata": {},
   "outputs": [],
   "source": [
    "import pandas as pd\n",
    "\n",
    "df = pd.read_json(\"data/llama_generation/test.json\")\n",
    "data = list(zip(df[\"question\"], df[\"context\"], df[\"type\"]))\n",
    "data[0]"
   ]
  },
  {
   "cell_type": "code",
   "execution_count": null,
   "metadata": {},
   "outputs": [],
   "source": [
    "# PROMPT = {\n",
    "#     \"phrase\": (\n",
    "#         \"Below is an question paired with a context for which generate answer.\"\n",
    "#         \"Write an answer as short as possible (max 5 words). Use only words from context.\\n\\n\"\n",
    "#         \"### Question:\\n{question}\\n\\n### Context:\\n{context}\\n\\n### Answer:\\n\"\n",
    "#     ),\n",
    "#     \"passage\": (\n",
    "#         \"Below is an question paired with a context for which generate answer.\"\n",
    "#         \"Write an answer which will be from one to three sentences. Use only words from context.\\n\\n\"\n",
    "#         \"### Question:\\n{question}\\n\\n### Context:\\n{context}\\n\\n### Answer:\\n\"\n",
    "#     ),\n",
    "#     \"multi\": (\n",
    "#         \"Below is an question paired with a context for which generate answer.\"\n",
    "#         \"Write an answer which is multi part that means it contains multiple \"\n",
    "#         \"phrase or sentences from given text. Use only words from context.\\n\\n\"\n",
    "#         \"### Question:\\n{question}\\n\\n### Context:\\n{context}\\n\\n### Answer:\\n\"\n",
    "#     ),\n",
    "# }\n",
    "PROMPT = (\n",
    "    \"Below is an question paired with a context for which generate answer. \"\n",
    "    \"Write an answer that with type {type} appropriately completes question.\\n\\n\"\n",
    "    \"### Question:\\n{question}\\n\\n### Context:\\n{context}\\n\\n### Answer:\\n\"\n",
    ")\n",
    "input_ids = tokenizer(\n",
    "    [\n",
    "        PROMPT[typ].format(\n",
    "            question=clickbait,\n",
    "            context=context,\n",
    "        )\n",
    "        for clickbait, context, typ in data[1:3]\n",
    "    ],\n",
    "    return_tensors=\"pt\",\n",
    "    max_length=1912,\n",
    "    padding=\"max_length\",\n",
    "    truncation=True,\n",
    ").to(\"cuda\")\n",
    "input_ids.pop(\"token_type_ids\")\n",
    "generated_ids = model.generate(**input_ids, max_new_tokens=50, do_sample=True, num_return_sequences=3)\n",
    "\n",
    "batch = tokenizer.batch_decode(generated_ids, skip_special_tokens=True)"
   ]
  },
  {
   "cell_type": "code",
   "execution_count": null,
   "metadata": {},
   "outputs": [],
   "source": [
    "print(df.loc[0, \"output\"])\n",
    "print(df.loc[0, \"type\"])"
   ]
  },
  {
   "cell_type": "code",
   "execution_count": null,
   "metadata": {},
   "outputs": [],
   "source": [
    "import torch\n",
    "import re\n",
    "from tqdm import tqdm\n",
    "from transformers import AutoModelForSequenceClassification, AutoTokenizer\n",
    "\n",
    "# PROMPT = {\n",
    "#     \"phrase\": (\n",
    "#         \"Below is an question paired with a context for which generate answer.\"\n",
    "#         \"Write an answer as short as possible (max 5 words). Use only words from context.\\n\\n\"\n",
    "#         \"### Question:\\n{question}\\n\\n### Context:\\n{context}\\n\\n### Answer:\\n\"\n",
    "#     ),\n",
    "#     \"passage\": (\n",
    "#         \"Below is an question paired with a context for which generate answer.\"\n",
    "#         \"Write an answer which will be from one to three sentences. Use only words from context.\\n\\n\"\n",
    "#         \"### Question:\\n{question}\\n\\n### Context:\\n{context}\\n\\n### Answer:\\n\"\n",
    "#     ),\n",
    "#     \"multi\": (\n",
    "#         \"Below is an question paired with a context for which generate answer.\"\n",
    "#         \"Write an answer which is multi part that means it contains multiple \"\n",
    "#         \"phrase or sentences from given text. Use only words from context.\\n\\n\"\n",
    "#         \"### Question:\\n{question}\\n\\n### Context:\\n{context}\\n\\n### Answer:\\n\"\n",
    "#     ),\n",
    "# }\n",
    "# PROMPT = (\n",
    "#     \"Below is an question paired with a context for which generate answer. \"\n",
    "#     \"Write an answer that appropriately completes question.\\n\\n\"\n",
    "#     \"### Question:\\n{question}\\n\\n### Context:\\n{context}\\n\\n### Answer:\\n\"\n",
    "# )\n",
    "\n",
    "PROMPT = (\n",
    "    \"Below is an question paired with a context for which generate answer. \"\n",
    "    \"Write an answer that with type {type} appropriately completes question.\\n\\n\"\n",
    "    \"### Question:\\n{question}\\n\\n### Context:\\n{context}\\n\\n### Answer:\\n\"\n",
    ")\n",
    "REGRESSOR_PROMPT = \"For given question:\\n {} \\nanswer:\\n {} \\ncontext:\\n{}\"\n",
    "spoilers_generated = []\n",
    "batch_size = 6\n",
    "j = 0\n",
    "\n",
    "for i in tqdm(range(len(data) // batch_size + 1)):\n",
    "    data_batch = data[i * batch_size : (i + 1) * batch_size]\n",
    "    input_ids = tokenizer(\n",
    "        [PROMPT.format(question=clickbait, context=context) for clickbait, context, typ in data_batch],\n",
    "        return_tensors=\"pt\",\n",
    "        max_length=1912,\n",
    "        padding=\"max_length\",\n",
    "        truncation=True,\n",
    "    ).to(\"cuda\")\n",
    "    input_ids.pop(\"token_type_ids\")\n",
    "\n",
    "    with torch.inference_mode():\n",
    "        generated_ids = model.generate(**input_ids, max_new_tokens=50)\n",
    "\n",
    "    spoilers_batch = tokenizer.batch_decode(generated_ids, skip_special_tokens=True)\n",
    "    for spoiler in tqdm(spoilers_batch):\n",
    "        generated = spoiler.split(\"Answer:\\n\")\n",
    "        if len(generated) == 1:\n",
    "            input_ids = tokenizer(\n",
    "                [PROMPT.format(question=clickbait, context=context[:4500]) for clickbait, context, typ in data[j : j + 1]],\n",
    "                return_tensors=\"pt\",\n",
    "                max_length=2048,\n",
    "                padding=\"max_length\",\n",
    "                truncation=True,\n",
    "            ).to(\"cuda\")\n",
    "            input_ids.pop(\"token_type_ids\")\n",
    "\n",
    "            with torch.inference_mode():\n",
    "                generated_ids = model.generate(**input_ids, max_new_tokens=50)\n",
    "\n",
    "            spoilers_batch = tokenizer.batch_decode(generated_ids, skip_special_tokens=True)\n",
    "            generated = spoilers_batch[0].split(\"Answer:\\n\")\n",
    "        generated = generated[1]\n",
    "\n",
    "        if data[j][2] == \"multi\":\n",
    "            generated = generated.replace(\"</s>\", \"\\n\")\n",
    "        else:\n",
    "            generated = generated.split(\"</s>\")[0]\n",
    "\n",
    "        spoilers_generated.append(generated)\n",
    "        j += 1"
   ]
  },
  {
   "cell_type": "code",
   "execution_count": null,
   "metadata": {},
   "outputs": [],
   "source": [
    "len(spoilers_generated)"
   ]
  },
  {
   "cell_type": "code",
   "execution_count": null,
   "metadata": {},
   "outputs": [],
   "source": [
    "import pandas as pd\n",
    "\n",
    "pd.DataFrame(zip(range(1000), spoilers_generated), columns=[\"id\", \"spoiler\"]).to_csv(\"output.csv\", index=False)"
   ]
  }
 ],
 "metadata": {
  "kernelspec": {
   "display_name": ".env",
   "language": "python",
   "name": "python3"
  },
  "language_info": {
   "codemirror_mode": {
    "name": "ipython",
    "version": 3
   },
   "file_extension": ".py",
   "mimetype": "text/x-python",
   "name": "python",
   "nbconvert_exporter": "python",
   "pygments_lexer": "ipython3",
   "version": "3.10.8"
  },
  "orig_nbformat": 4
 },
 "nbformat": 4,
 "nbformat_minor": 2
}
