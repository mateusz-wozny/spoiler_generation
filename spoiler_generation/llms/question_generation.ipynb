{
 "cells": [
  {
   "cell_type": "code",
   "execution_count": null,
   "metadata": {},
   "outputs": [],
   "source": [
    "from transformers import LlamaForCausalLM, LlamaTokenizer\n",
    "\n",
    "llama_path = \"models/vicuna-13b\"\n",
    "model = LlamaForCausalLM.from_pretrained(llama_path, load_in_8bit=True)\n",
    "tokenizer = LlamaTokenizer.from_pretrained(llama_path)\n",
    "tokenizer.add_special_tokens({\"pad_token\": tokenizer.eos_token})"
   ]
  },
  {
   "cell_type": "code",
   "execution_count": null,
   "metadata": {},
   "outputs": [],
   "source": [
    "from spoiler_generation.utils.spoiler_generation.utils.dataset_class import Dataset\n",
    "import torch\n",
    "\n",
    "dataset = Dataset.from_jsonl(\"data/train.jsonl\")\n",
    "clickbaits = dataset.df[\"postText\"].tolist()"
   ]
  },
  {
   "cell_type": "code",
   "execution_count": null,
   "metadata": {},
   "outputs": [],
   "source": [
    "PROMPT = \"Below is a sentence from which write question.\\n\" \"### Sentence:\\n{question}\\n### Question:\"\n",
    "\n",
    "input_ids = tokenizer([PROMPT.format(question=c) for c in clickbaits[:20]], padding=True, return_tensors=\"pt\").to(\"cuda\")\n",
    "with torch.no_grad():\n",
    "    generated_ids = model.generate(**input_ids, max_new_tokens=30)\n",
    "\n",
    "batch = tokenizer.batch_decode(generated_ids, skip_special_tokens=True)"
   ]
  },
  {
   "cell_type": "code",
   "execution_count": null,
   "metadata": {},
   "outputs": [],
   "source": [
    "print(batch[4])"
   ]
  },
  {
   "cell_type": "code",
   "execution_count": null,
   "metadata": {},
   "outputs": [],
   "source": [
    "import re\n",
    "\n",
    "sen_comp = re.compile(r\"Sentence:\\n(.*)\\n\", re.MULTILINE)\n",
    "sen_ques = re.compile(r\"Question:\\n(.*)\\n?\", re.MULTILINE)\n",
    "\n",
    "for b in batch:\n",
    "    print(next(sen_comp.finditer(b)).groups(0)[0])\n",
    "    print(next(sen_ques.finditer(b)).groups(0)[0])\n",
    "\n",
    "    print(\"__________________________\")"
   ]
  },
  {
   "cell_type": "code",
   "execution_count": null,
   "metadata": {},
   "outputs": [],
   "source": [
    "len(clickbaits)"
   ]
  },
  {
   "cell_type": "code",
   "execution_count": null,
   "metadata": {},
   "outputs": [],
   "source": [
    "import torch\n",
    "import re\n",
    "from tqdm import tqdm\n",
    "\n",
    "generated_questions = []\n",
    "sen_ques = re.compile(r\"Question:\\n(.*)\\n?\", re.MULTILINE)\n",
    "j = 0\n",
    "for i in tqdm(range(len(clickbaits) // 50)):\n",
    "    clickbaits_batch = clickbaits[i * 50 : (i + 1) * 50]\n",
    "    input_ids = tokenizer([PROMPT.format(question=c) for c in clickbaits_batch], padding=True, return_tensors=\"pt\")\n",
    "    with torch.inference_mode():\n",
    "        generated_ids = model.generate(**input_ids, max_new_tokens=30)\n",
    "\n",
    "    questions_batch = tokenizer.batch_decode(generated_ids, skip_special_tokens=True)\n",
    "    for question in tqdm(questions_batch):\n",
    "        try:\n",
    "            generated = next(sen_ques.finditer(question)).groups(0)[0]\n",
    "        except StopIteration:\n",
    "            generated = clickbaits[j]\n",
    "        j += 1\n",
    "        generated_questions.append(generated)"
   ]
  },
  {
   "cell_type": "code",
   "execution_count": null,
   "metadata": {},
   "outputs": [],
   "source": [
    "import pandas as pd\n",
    "\n",
    "df = pd.read_csv(\"data/spoiler_generation/train_questions.csv\")\n",
    "df[\"vicuna\"] = generated_questions\n",
    "df[\"clickbait\"] = clickbaits"
   ]
  },
  {
   "cell_type": "code",
   "execution_count": null,
   "metadata": {},
   "outputs": [],
   "source": [
    "df.to_csv(\"question_comparison.csv\", index=False)"
   ]
  },
  {
   "cell_type": "code",
   "execution_count": null,
   "metadata": {},
   "outputs": [],
   "source": [
    "len(generated_questions)"
   ]
  },
  {
   "cell_type": "code",
   "execution_count": null,
   "metadata": {},
   "outputs": [],
   "source": [
    "import pandas as pd\n",
    "\n",
    "pd.DataFrame(generated_questions, columns=[\"generated_questions\"]).to_csv(\"data/spoiler_generation/vicuna/train_questions.csv\", index=False)"
   ]
  }
 ],
 "metadata": {
  "kernelspec": {
   "display_name": ".env",
   "language": "python",
   "name": "python3"
  },
  "language_info": {
   "codemirror_mode": {
    "name": "ipython",
    "version": 3
   },
   "file_extension": ".py",
   "mimetype": "text/x-python",
   "name": "python",
   "nbconvert_exporter": "python",
   "pygments_lexer": "ipython3",
   "version": "3.9.2"
  },
  "orig_nbformat": 4
 },
 "nbformat": 4,
 "nbformat_minor": 2
}
