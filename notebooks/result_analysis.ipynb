{
 "cells": [
  {
   "attachments": {},
   "cell_type": "markdown",
   "metadata": {},
   "source": [
    "# Spoiler generation"
   ]
  },
  {
   "cell_type": "code",
   "execution_count": 4,
   "metadata": {},
   "outputs": [],
   "source": [
    "import pandas as pd\n",
    "from datasets import load_dataset\n",
    "\n",
    "from spoiler_generation.utils.stats import prepare_stats, calculate_bleu\n",
    "from spoiler_generation.utils.dataset_class import Dataset\n"
   ]
  },
  {
   "cell_type": "code",
   "execution_count": 2,
   "metadata": {},
   "outputs": [
    {
     "name": "stderr",
     "output_type": "stream",
     "text": [
      "Found cached dataset csv (C:/Users/Mateusz/.cache/huggingface/datasets/MateuszW___csv/MateuszW--clickbait_spoiling_test-aaa35fe962f96287/0.0.0/6954658bab30a358235fa864b05cf819af0e179325c740e4bc853bcc7ec513e1)\n"
     ]
    },
    {
     "data": {
      "application/vnd.jupyter.widget-view+json": {
       "model_id": "52e5908b15a1415dab7ef2d58f89fb54",
       "version_major": 2,
       "version_minor": 0
      },
      "text/plain": [
       "  0%|          | 0/1 [00:00<?, ?it/s]"
      ]
     },
     "metadata": {},
     "output_type": "display_data"
    }
   ],
   "source": [
    "# The dataset is private\n",
    "dataset = load_dataset(\"MateuszW/clickbait_spoiling_test\")\n",
    "test_df = pd.DataFrame(dataset[\"test\"])\n",
    "test_df[\"spoiler\"] = test_df[\"spoiler\"].apply(Dataset.preprocess_func)"
   ]
  },
  {
   "cell_type": "code",
   "execution_count": 31,
   "metadata": {},
   "outputs": [
    {
     "data": {
      "text/plain": [
       "(1000, 6)"
      ]
     },
     "execution_count": 31,
     "metadata": {},
     "output_type": "execute_result"
    }
   ],
   "source": [
    "test_df.shape"
   ]
  },
  {
   "cell_type": "code",
   "execution_count": 3,
   "metadata": {},
   "outputs": [
    {
     "name": "stderr",
     "output_type": "stream",
     "text": [
      "Found cached dataset csv (C:/Users/Mateusz/.cache/huggingface/datasets/MateuszW___csv/MateuszW--spoiler_generation-2d60d0350a7a6926/0.0.0/6954658bab30a358235fa864b05cf819af0e179325c740e4bc853bcc7ec513e1)\n"
     ]
    },
    {
     "data": {
      "application/vnd.jupyter.widget-view+json": {
       "model_id": "192d41cf572841f18c0788cfa3ae4801",
       "version_major": 2,
       "version_minor": 0
      },
      "text/plain": [
       "  0%|          | 0/9 [00:00<?, ?it/s]"
      ]
     },
     "metadata": {},
     "output_type": "display_data"
    }
   ],
   "source": [
    "models_outputs = load_dataset(\n",
    "    \"MateuszW/spoiler_generation\",\n",
    "    data_files={\n",
    "        \"baseline\": \"models_output/deberta-baseline_output.csv\",\n",
    "        \"deberta_paqott\": \"models_output/deberta-paqott_output.csv\",\n",
    "        \"llama_pwot\": \"models_output/llama-pwot_output.csv\",\n",
    "        \"vicuna_pwot\": \"models_output/vicuna-pwot_output.csv\",\n",
    "        \"opt_pwot\": \"models_output/opt-pwot_output.csv\",\n",
    "        \"llama_pwt\": \"models_output/llama-pwt_output.csv\",\n",
    "        \"vicuna_pwt\": \"models_output/vicuna-pwt_output.csv\",\n",
    "        \"opt_pwt\": \"models_output/opt-pwt_output.csv\",\n",
    "        \"vicuna_ppt\": \"models_output/vicuna-ppt_output.csv\",\n",
    "    },\n",
    ")"
   ]
  },
  {
   "cell_type": "code",
   "execution_count": 5,
   "metadata": {},
   "outputs": [],
   "source": [
    "for output_name in models_outputs.keys():\n",
    "    models_outputs[output_name] = pd.DataFrame(models_outputs[output_name])\n",
    "    models_outputs[output_name][\"spoiler\"] = models_outputs[output_name][\"spoiler\"].apply(Dataset.preprocess_func)"
   ]
  },
  {
   "cell_type": "code",
   "execution_count": 7,
   "metadata": {},
   "outputs": [
    {
     "name": "stdout",
     "output_type": "stream",
     "text": [
      "baseline 0.3789261019434709\n",
      "deberta_paqott 0.38212501050366765\n",
      "llama_pwot 0.32208982284824633\n",
      "vicuna_pwot 0.3315958503556814\n",
      "opt_pwot 0.34201745459592736\n",
      "llama_pwt 0.37699728737519966\n",
      "vicuna_pwt 0.3880001338892428\n",
      "opt_pwt 0.33857424975291617\n",
      "vicuna_ppt 0.4001146909888649\n"
     ]
    }
   ],
   "source": [
    "for output_name in models_outputs.keys():\n",
    "    print(output_name, calculate_bleu(test_df, models_outputs[output_name]))"
   ]
  },
  {
   "attachments": {},
   "cell_type": "markdown",
   "metadata": {},
   "source": [
    "### Per type"
   ]
  },
  {
   "cell_type": "code",
   "execution_count": null,
   "metadata": {},
   "outputs": [],
   "source": [
    "for spoiler_type in [\"phrase\", \"passage\", \"multi\"]:\n",
    "    spoiler_type_df = test_df.loc[test_df[\"type\"] == spoiler_type]\n",
    "    print(spoiler_type, prepare_stats(spoiler_type_df, pd.DataFrame(models_outputs[\"baseline\"])))"
   ]
  }
 ],
 "metadata": {
  "kernelspec": {
   "display_name": ".env",
   "language": "python",
   "name": "python3"
  },
  "language_info": {
   "codemirror_mode": {
    "name": "ipython",
    "version": 3
   },
   "file_extension": ".py",
   "mimetype": "text/x-python",
   "name": "python",
   "nbconvert_exporter": "python",
   "pygments_lexer": "ipython3",
   "version": "3.9.2"
  },
  "orig_nbformat": 4
 },
 "nbformat": 4,
 "nbformat_minor": 2
}
