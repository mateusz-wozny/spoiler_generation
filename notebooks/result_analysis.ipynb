{
 "cells": [
  {
   "attachments": {},
   "cell_type": "markdown",
   "metadata": {},
   "source": [
    "# Spoiler generation"
   ]
  },
  {
   "cell_type": "code",
   "execution_count": 9,
   "metadata": {},
   "outputs": [],
   "source": [
    "import pandas as pd\n",
    "from datasets import load_dataset\n",
    "from copy import deepcopy\n",
    "\n",
    "from spoiler_generation.utils.stats import prepare_stats, calculate_bleu\n",
    "from spoiler_generation.utils.dataset_class import Dataset"
   ]
  },
  {
   "cell_type": "code",
   "execution_count": null,
   "metadata": {},
   "outputs": [],
   "source": [
    "# The dataset is private\n",
    "dataset = load_dataset(\"MateuszW/clickbait_spoiling_test\")\n",
    "test_df = pd.DataFrame(dataset[\"test\"])\n",
    "test_df[\"spoiler\"] = test_df[\"spoiler\"].apply(Dataset.preprocess_func)"
   ]
  },
  {
   "cell_type": "code",
   "execution_count": 31,
   "metadata": {},
   "outputs": [
    {
     "data": {
      "text/plain": [
       "(1000, 6)"
      ]
     },
     "execution_count": 31,
     "metadata": {},
     "output_type": "execute_result"
    }
   ],
   "source": [
    "test_df.shape"
   ]
  },
  {
   "cell_type": "code",
   "execution_count": null,
   "metadata": {},
   "outputs": [],
   "source": [
    "models_outputs = load_dataset(\n",
    "    \"MateuszW/spoiler_generation\",\n",
    "    data_files={\n",
    "        \"baseline\": \"models_output/deberta-baseline_output.csv\",\n",
    "        \"deberta_paqott\": \"models_output/deberta-paqott_output.csv\",\n",
    "        \"llama_pwot\": \"models_output/llama-pwot_output.csv\",\n",
    "        \"vicuna_pwot\": \"models_output/vicuna-pwot_output.csv\",\n",
    "        \"opt_pwot\": \"models_output/opt-pwot_output.csv\",\n",
    "        \"llama_pwt\": \"models_output/llama-pwt_output.csv\",\n",
    "        \"vicuna_pwt\": \"models_output/vicuna-pwt_output.csv\",\n",
    "        \"opt_pwt\": \"models_output/opt-pwt_output.csv\",\n",
    "        \"vicuna_ppt\": \"models_output/vicuna-ppt_output.csv\",\n",
    "        \"best\": \"models_output/best_output.csv\",\n",
    "    },\n",
    ")"
   ]
  },
  {
   "cell_type": "code",
   "execution_count": 11,
   "metadata": {},
   "outputs": [],
   "source": [
    "for output_name in models_outputs.keys():\n",
    "    models_outputs[output_name] = pd.DataFrame(models_outputs[output_name])\n",
    "    models_outputs[output_name][\"spoiler\"] = models_outputs[output_name][\"spoiler\"].apply(Dataset.preprocess_func)"
   ]
  },
  {
   "cell_type": "code",
   "execution_count": 13,
   "metadata": {},
   "outputs": [
    {
     "name": "stdout",
     "output_type": "stream",
     "text": [
      "baseline 0.3789\n",
      "deberta_paqott 0.3821\n",
      "llama_pwot 0.3221\n",
      "vicuna_pwot 0.3316\n",
      "opt_pwot 0.3421\n",
      "llama_pwt 0.377\n",
      "vicuna_pwt 0.388\n",
      "opt_pwt 0.3386\n",
      "vicuna_ppt 0.4001\n",
      "best 0.4437\n"
     ]
    }
   ],
   "source": [
    "for output_name in models_outputs.keys():\n",
    "    print(output_name, round(calculate_bleu(test_df, models_outputs[output_name]), 4))"
   ]
  },
  {
   "attachments": {},
   "cell_type": "markdown",
   "metadata": {},
   "source": [
    "### Per type"
   ]
  },
  {
   "cell_type": "code",
   "execution_count": 21,
   "metadata": {},
   "outputs": [
    {
     "name": "stdout",
     "output_type": "stream",
     "text": [
      "phrase 0.6457\n",
      "passage 0.2996\n",
      "multi 0.2866\n"
     ]
    }
   ],
   "source": [
    "for spoiler_type in [\"phrase\", \"passage\", \"multi\"]:\n",
    "    spoiler_type_df = deepcopy(test_df.loc[test_df[\"type\"] == spoiler_type])\n",
    "    print(spoiler_type, round(calculate_bleu(spoiler_type_df, pd.DataFrame(models_outputs[\"best\"])), 4))"
   ]
  }
 ],
 "metadata": {
  "kernelspec": {
   "display_name": ".env",
   "language": "python",
   "name": "python3"
  },
  "language_info": {
   "codemirror_mode": {
    "name": "ipython",
    "version": 3
   },
   "file_extension": ".py",
   "mimetype": "text/x-python",
   "name": "python",
   "nbconvert_exporter": "python",
   "pygments_lexer": "ipython3",
   "version": "3.9.2"
  },
  "orig_nbformat": 4
 },
 "nbformat": 4,
 "nbformat_minor": 2
}
